{
 "cells": [
  {
   "cell_type": "code",
   "execution_count": null,
   "metadata": {},
   "outputs": [],
   "source": [
    "import os\n",
    "import json\n",
    "from typing import List, Dict\n",
    "from Scrape import Scrape_html\n",
    "\n",
    "# Send a GET request to the webpage\n",
    "urls: List = [\"https://www.nature.com/articles/s41467-021-22523-3\",\n",
    "        \"https://www.nature.com/articles/s41467-021-25610-7\",\n",
    "        \"https://www.nature.com/articles/ncomms14283\",\n",
    "        \"https://www.nature.com/articles/s41467-019-09933-0\"]\n",
    "\n",
    "#All data will be stored in one dictionary.\n",
    "paper_scrape: Dict = {}\n",
    "\n",
    "for i,url in enumerate(urls):\n",
    "  #Call the function\n",
    "  data = Scrape_html(url=url)\n",
    "\n",
    "  paper_scrape[\"id\"+str(i+1)] = data\n",
    "\n",
    "#assign path for exporting the result\n",
    "path = \"Output\"\n",
    "\n",
    "with open(os.path.join(path,\"output.json\"), \"w\",encoding=\"utf8\") as file:\n",
    "            json.dump(paper_scrape,file, indent=4)\n",
    "            \n",
    "print(json.dumps(paper_scrape,indent=4))"
   ]
  }
 ],
 "metadata": {
  "language_info": {
   "name": "python"
  },
  "orig_nbformat": 4
 },
 "nbformat": 4,
 "nbformat_minor": 2
}
