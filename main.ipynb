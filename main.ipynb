{
 "cells": [
  {
   "cell_type": "code",
   "execution_count": null,
   "metadata": {},
   "outputs": [],
   "source": [
    "import os\n",
    "import json\n",
    "import requests, bs4\n",
    "from typing import Dict\n",
    "from transformers import pipeline\n",
    "from Scrape import Scrape_html"
   ]
  },
  {
   "cell_type": "code",
   "execution_count": null,
   "metadata": {},
   "outputs": [],
   "source": [
    "# Send a GET request to the webpage\n",
    "res = requests.get('https://www.nature.com/search?q=sodium+ion+battery+cathode+capacity&journal=')\n",
    "res.raise_for_status()\n",
    "\n",
    "#parsed html\n",
    "soup = bs4.BeautifulSoup(res.text, \"html.parser\")\n",
    "\n",
    "#h3 elements\n",
    "elems = soup.select(\".u-container h3\")\n",
    "\n",
    "#import model\n",
    "summarizer = pipeline(\"summarization\", model=\"facebook/bart-large-cnn\")\n",
    "\n",
    "#All data will be stored in one dictionary.\n",
    "paper_scrape: Dict = {}\n",
    "for i,elem in enumerate(elems):\n",
    "    print(f'{i+1}/50 processing')\n",
    "    \n",
    "    # title = elem.find(\"a\",class_=\"c-card__link u-link-inherit\").text\n",
    "    url = \"https://www.nature.com\"+elem.select(\"a\")[0].get(\"href\")\n",
    "\n",
    "    #Call the function\n",
    "    data = Scrape_html(url=url,summarizer=summarizer)\n",
    "\n",
    "    paper_scrape[\"id\"+str(i+1)] = data\n",
    "    \n",
    "    print(f\"{i+1}/50 Done.\")\n",
    "\n",
    "#assign path for exporting the result\n",
    "# path = \"Output\"\n",
    "\n",
    "# with open(os.path.join(path,\"output.json\"), \"w\",encoding=\"utf8\") as file:\n",
    "#    json.dump(paper_scrape,file, indent=4)\n",
    "\n",
    "print(json.dumps(paper_scrape,indent=4))"
   ]
  }
 ],
 "metadata": {
  "language_info": {
   "name": "python"
  },
  "orig_nbformat": 4
 },
 "nbformat": 4,
 "nbformat_minor": 2
}
